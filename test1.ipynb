{
 "cells": [
  {
   "cell_type": "markdown",
   "metadata": {},
   "source": [
    "文件结构解析"
   ]
  },
  {
   "cell_type": "code",
   "execution_count": 1,
   "metadata": {},
   "outputs": [],
   "source": [
    "import json\n",
    "import os\n",
    "from PIL import Image\n",
    "\n",
    "# 解析类别文件\n",
    "with open(\"E:/CPCI/plantdoc/classes.txt\", \"r\") as f:\n",
    "    classes = {line.split()[0]: line.split()[1] for line in f.readlines()}\n",
    "\n",
    "# 解析数据划分文件\n",
    "split_dict = {\"0\": \"test\", \"1\": \"train\", \"2\": \"val\"}\n",
    "with open(\"E:/CPCI/plantdoc/trainval.txt\", \"r\") as f:\n",
    "    split_data = [line.strip().split('=') for line in f.readlines()]\n",
    "    image_splits = {os.path.basename(item[0]): split_dict[item[2]] for item in split_data}\n",
    "\n",
    "# 加载文本提示\n",
    "with open(\"E:/CPCI/plantdoc/plantwild_prompts.json\", \"r\") as f:\n",
    "    text_prompts = json.load(f)  # 结构：{class_id: [prompt1, ..., prompt50]}"
   ]
  },
  {
   "cell_type": "markdown",
   "metadata": {},
   "source": [
    "小样本数据生成器"
   ]
  },
  {
   "cell_type": "code",
   "execution_count": 2,
   "metadata": {},
   "outputs": [],
   "source": [
    "import torch\n",
    "from torch.utils.data import Dataset, DataLoader\n",
    "import random\n",
    "\n",
    "class FewShotPlantDataset(Dataset):\n",
    "    def __init__(self, root_dir, mode=\"train\", n_way=5, k_shot=1):\n",
    "        self.class_folders = [d for d in os.listdir(root_dir) if os.path.isdir(os.path.join(root_dir, d))]\n",
    "        self.selected_classes = random.sample(self.class_folders, n_way)\n",
    "        self.samples = []\n",
    "        \n",
    "        for cls in self.selected_classes:\n",
    "            cls_path = os.path.join(root_dir, cls)\n",
    "            imgs = [os.path.join(cls_path, f) for f in os.listdir(cls_path) \n",
    "                   if image_splits.get(os.path.basename(f), \"\") == mode]\n",
    "            selected_imgs = random.sample(imgs, k_shot)\n",
    "            self.samples.extend([(img, cls) for img in selected_imgs])\n",
    "\n",
    "    def __getitem__(self, idx):\n",
    "        img_path, cls = self.samples[idx]\n",
    "        image = Image.open(img_path).convert(\"RGB\")\n",
    "        text = random.choice(text_prompts[cls])  # 随机选择一条文本提示\n",
    "        return image, text, cls\n",
    "\n",
    "    def __len__(self):\n",
    "        return len(self.samples)"
   ]
  },
  {
   "cell_type": "markdown",
   "metadata": {},
   "source": [
    "跨模态数据增强"
   ]
  },
  {
   "cell_type": "code",
   "execution_count": 6,
   "metadata": {},
   "outputs": [
    {
     "ename": "TypeError",
     "evalue": "__init__() got an unexpected keyword argument 'model_path'",
     "output_type": "error",
     "traceback": [
      "\u001b[1;31m---------------------------------------------------------------------------\u001b[0m",
      "\u001b[1;31mTypeError\u001b[0m                                 Traceback (most recent call last)",
      "Cell \u001b[1;32mIn[6], line 15\u001b[0m\n\u001b[0;32m      5\u001b[0m img_transform \u001b[38;5;241m=\u001b[39m transforms\u001b[38;5;241m.\u001b[39mCompose([\n\u001b[0;32m      6\u001b[0m     transforms\u001b[38;5;241m.\u001b[39mRandomResizedCrop(\u001b[38;5;241m224\u001b[39m),\n\u001b[0;32m      7\u001b[0m     transforms\u001b[38;5;241m.\u001b[39mRandomHorizontalFlip(),\n\u001b[1;32m   (...)\u001b[0m\n\u001b[0;32m     11\u001b[0m                         (\u001b[38;5;241m0.26862954\u001b[39m, \u001b[38;5;241m0.26130258\u001b[39m, \u001b[38;5;241m0.27577711\u001b[39m))\n\u001b[0;32m     12\u001b[0m ])\n\u001b[0;32m     14\u001b[0m \u001b[38;5;66;03m# 文本增强（需先安装nlpaug）\u001b[39;00m\n\u001b[1;32m---> 15\u001b[0m text_aug \u001b[38;5;241m=\u001b[39m \u001b[43mAugmenter\u001b[49m\u001b[43m(\u001b[49m\u001b[38;5;124;43m'\u001b[39;49m\u001b[38;5;124;43mcontextual_word_embs\u001b[39;49m\u001b[38;5;124;43m'\u001b[39;49m\u001b[43m,\u001b[49m\u001b[43m \u001b[49m\u001b[43maction\u001b[49m\u001b[38;5;241;43m=\u001b[39;49m\u001b[38;5;124;43m'\u001b[39;49m\u001b[38;5;124;43msubstitute\u001b[39;49m\u001b[38;5;124;43m'\u001b[39;49m\u001b[43m,\u001b[49m\u001b[43m \u001b[49m\u001b[43mmodel_path\u001b[49m\u001b[38;5;241;43m=\u001b[39;49m\u001b[38;5;124;43m'\u001b[39;49m\u001b[38;5;124;43mE:\u001b[39;49m\u001b[38;5;124;43m\\\u001b[39;49m\u001b[38;5;124;43mmodels\u001b[39;49m\u001b[38;5;130;43;01m\\\\\u001b[39;49;00m\u001b[38;5;124;43mbert_base_uncased\u001b[39;49m\u001b[38;5;124;43m'\u001b[39;49m\u001b[43m)\u001b[49m\n\u001b[0;32m     17\u001b[0m \u001b[38;5;28;01mdef\u001b[39;00m \u001b[38;5;21maugment_text\u001b[39m(text):\n\u001b[0;32m     18\u001b[0m     \u001b[38;5;28;01mreturn\u001b[39;00m text_aug\u001b[38;5;241m.\u001b[39maugment(text)[\u001b[38;5;241m0\u001b[39m]\n",
      "\u001b[1;31mTypeError\u001b[0m: __init__() got an unexpected keyword argument 'model_path'"
     ]
    }
   ],
   "source": [
    "from torchvision import transforms\n",
    "from nlpaug import Augmenter\n",
    "\n",
    "# 图像增强管道\n",
    "img_transform = transforms.Compose([\n",
    "    transforms.RandomResizedCrop(224),\n",
    "    transforms.RandomHorizontalFlip(),\n",
    "    transforms.ColorJitter(brightness=0.4, contrast=0.4, saturation=0.4),\n",
    "    transforms.ToTensor(),\n",
    "    transforms.Normalize((0.48145466, 0.4578275, 0.40821073), \n",
    "                        (0.26862954, 0.26130258, 0.27577711))\n",
    "])\n",
    "\n",
    "# 文本增强（需先安装nlpaug）\n",
    "text_aug = Augmenter('contextual_word_embs', action='substitute', model_path='E:\\models\\\\bert_base_uncased')\n",
    "\n",
    "def augment_text(text):\n",
    "    return text_aug.augment(text)[0]\n"
   ]
  }
 ],
 "metadata": {
  "kernelspec": {
   "display_name": "mvpdr",
   "language": "python",
   "name": "python3"
  },
  "language_info": {
   "codemirror_mode": {
    "name": "ipython",
    "version": 3
   },
   "file_extension": ".py",
   "mimetype": "text/x-python",
   "name": "python",
   "nbconvert_exporter": "python",
   "pygments_lexer": "ipython3",
   "version": "3.8.20"
  }
 },
 "nbformat": 4,
 "nbformat_minor": 2
}
