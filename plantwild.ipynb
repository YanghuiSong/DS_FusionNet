{
 "cells": [
  {
   "cell_type": "code",
   "execution_count": 7,
   "metadata": {},
   "outputs": [
    {
     "ename": "FileNotFoundError",
     "evalue": "[Errno 2] No such file or directory: 'E:/data1plantdocclasses.txt'",
     "output_type": "error",
     "traceback": [
      "\u001b[1;31m---------------------------------------------------------------------------\u001b[0m",
      "\u001b[1;31mFileNotFoundError\u001b[0m                         Traceback (most recent call last)",
      "Cell \u001b[1;32mIn[7], line 22\u001b[0m\n\u001b[0;32m     16\u001b[0m image_transforms \u001b[38;5;241m=\u001b[39m transforms\u001b[38;5;241m.\u001b[39mCompose([\n\u001b[0;32m     17\u001b[0m     transforms\u001b[38;5;241m.\u001b[39mResize((\u001b[38;5;241m256\u001b[39m, \u001b[38;5;241m256\u001b[39m)),\n\u001b[0;32m     18\u001b[0m     transforms\u001b[38;5;241m.\u001b[39mToTensor(),\n\u001b[0;32m     19\u001b[0m ])\n\u001b[0;32m     21\u001b[0m \u001b[38;5;66;03m# 读取类别信息\u001b[39;00m\n\u001b[1;32m---> 22\u001b[0m \u001b[38;5;28;01mwith\u001b[39;00m \u001b[38;5;28;43mopen\u001b[39;49m\u001b[43m(\u001b[49m\u001b[43mclasses_file\u001b[49m\u001b[43m,\u001b[49m\u001b[43m \u001b[49m\u001b[38;5;124;43m'\u001b[39;49m\u001b[38;5;124;43mr\u001b[39;49m\u001b[38;5;124;43m'\u001b[39;49m\u001b[43m)\u001b[49m \u001b[38;5;28;01mas\u001b[39;00m f:\n\u001b[0;32m     23\u001b[0m     classes \u001b[38;5;241m=\u001b[39m {\u001b[38;5;28mint\u001b[39m(line\u001b[38;5;241m.\u001b[39msplit(\u001b[38;5;124m'\u001b[39m\u001b[38;5;124m \u001b[39m\u001b[38;5;124m'\u001b[39m)[\u001b[38;5;241m0\u001b[39m]): line\u001b[38;5;241m.\u001b[39msplit(\u001b[38;5;124m'\u001b[39m\u001b[38;5;124m \u001b[39m\u001b[38;5;124m'\u001b[39m)[\u001b[38;5;241m1\u001b[39m] \u001b[38;5;28;01mfor\u001b[39;00m line \u001b[38;5;129;01min\u001b[39;00m f}\n\u001b[0;32m     25\u001b[0m \u001b[38;5;66;03m# 读取训练集和验证集的划分\u001b[39;00m\n",
      "File \u001b[1;32md:\\Users\\songyanghui\\anaconda3\\envs\\mvpdr\\lib\\site-packages\\IPython\\core\\interactiveshell.py:284\u001b[0m, in \u001b[0;36m_modified_open\u001b[1;34m(file, *args, **kwargs)\u001b[0m\n\u001b[0;32m    277\u001b[0m \u001b[38;5;28;01mif\u001b[39;00m file \u001b[38;5;129;01min\u001b[39;00m {\u001b[38;5;241m0\u001b[39m, \u001b[38;5;241m1\u001b[39m, \u001b[38;5;241m2\u001b[39m}:\n\u001b[0;32m    278\u001b[0m     \u001b[38;5;28;01mraise\u001b[39;00m \u001b[38;5;167;01mValueError\u001b[39;00m(\n\u001b[0;32m    279\u001b[0m         \u001b[38;5;124mf\u001b[39m\u001b[38;5;124m\"\u001b[39m\u001b[38;5;124mIPython won\u001b[39m\u001b[38;5;124m'\u001b[39m\u001b[38;5;124mt let you open fd=\u001b[39m\u001b[38;5;132;01m{\u001b[39;00mfile\u001b[38;5;132;01m}\u001b[39;00m\u001b[38;5;124m by default \u001b[39m\u001b[38;5;124m\"\u001b[39m\n\u001b[0;32m    280\u001b[0m         \u001b[38;5;124m\"\u001b[39m\u001b[38;5;124mas it is likely to crash IPython. If you know what you are doing, \u001b[39m\u001b[38;5;124m\"\u001b[39m\n\u001b[0;32m    281\u001b[0m         \u001b[38;5;124m\"\u001b[39m\u001b[38;5;124myou can use builtins\u001b[39m\u001b[38;5;124m'\u001b[39m\u001b[38;5;124m open.\u001b[39m\u001b[38;5;124m\"\u001b[39m\n\u001b[0;32m    282\u001b[0m     )\n\u001b[1;32m--> 284\u001b[0m \u001b[38;5;28;01mreturn\u001b[39;00m \u001b[43mio_open\u001b[49m\u001b[43m(\u001b[49m\u001b[43mfile\u001b[49m\u001b[43m,\u001b[49m\u001b[43m \u001b[49m\u001b[38;5;241;43m*\u001b[39;49m\u001b[43margs\u001b[49m\u001b[43m,\u001b[49m\u001b[43m \u001b[49m\u001b[38;5;241;43m*\u001b[39;49m\u001b[38;5;241;43m*\u001b[39;49m\u001b[43mkwargs\u001b[49m\u001b[43m)\u001b[49m\n",
      "\u001b[1;31mFileNotFoundError\u001b[0m: [Errno 2] No such file or directory: 'E:/data1plantdocclasses.txt'"
     ]
    }
   ],
   "source": [
    "import json\n",
    "import os\n",
    "import random\n",
    "from PIL import Image\n",
    "import torch\n",
    "from torch.utils.data import Dataset, DataLoader\n",
    "from torchvision import transforms\n",
    "\n",
    "# 设置数据集路径\n",
    "images_dir = \"E:/data1plantdocimages\"\n",
    "classes_file = \"E:/data1plantdocclasses.txt\"\n",
    "prompts_file = \"E:/data1plantdocplantwildprompts.json\"\n",
    "trainval_file = \"E:/data1plantdoctrainval.txt\"\n",
    "\n",
    "# 定义图像和文本的预处理\n",
    "image_transforms = transforms.Compose([\n",
    "    transforms.Resize((256, 256)),\n",
    "    transforms.ToTensor(),\n",
    "])\n",
    "\n",
    "# 读取类别信息\n",
    "with open(classes_file, 'r') as f:\n",
    "    classes = {int(line.split(' ')[0]): line.split(' ')[1] for line in f}\n",
    "\n",
    "# 读取训练集和验证集的划分\n",
    "with open(trainval_file, 'r') as f:\n",
    "    train_indices = set(map(int, f.read().split(',')))\n",
    "\n",
    "# 读取文本描述\n",
    "with open(prompts_file, 'r') as f:\n",
    "    prompts = json.load(f)\n",
    "\n",
    "# 创建数据集类\n",
    "class PlantDataset(Dataset):\n",
    "    def __init__(self, images_dir, prompts, classes, indices, transform=None):\n",
    "        self.images_dir = images_dir\n",
    "        self.prompts = prompts\n",
    "        self.classes = classes\n",
    "        self.indices = indices\n",
    "        self.transform = transform\n",
    "\n",
    "    def __len__(self):\n",
    "        return len(self.indices)\n",
    "\n",
    "    def __getitem__(self, idx):\n",
    "        class_id = self.indices[idx]\n",
    "        image_path = os.path.join(self.images_dir, str(class_id), random.choice(os.listdir(os.path.join(self.images_dir, str(class_id)))))\n",
    "        image = Image.open(image_path).convert('RGB')\n",
    "        text = self.prompts[str(class_id)][random.randint(0, 49)]\n",
    "        if self.transform:\n",
    "            image = self.transform(image)\n",
    "        # Tokenize the text\n",
    "        tokens = text.split()\n",
    "        # Convert tokens to integers\n",
    "        text_tensor = torch.tensor([self.classes.get(token, len(self.classes)) for token in tokens], dtype=torch.long)\n",
    "        return image, text_tensor, class_id\n",
    "\n",
    "# 创建数据集和数据加载器\n",
    "train_dataset = PlantDataset(images_dir, prompts, classes, train_indices, transform=image_transforms)\n",
    "val_dataset = PlantDataset(images_dir, prompts, classes, set(range(len(classes))) - train_indices, transform=image_transforms)\n",
    "\n",
    "train_loader = DataLoader(train_dataset, batch_size=32, shuffle=True)\n",
    "val_loader = DataLoader(val_dataset, batch_size=32, shuffle=False)\n",
    "\n",
    "# 打印训练集和验证集的大小\n",
    "print(f\"Train dataset size: {len(train_dataset)}\")\n",
    "print(f\"Validation dataset size: {len(val_dataset)}\")\n"
   ]
  }
 ],
 "metadata": {
  "kernelspec": {
   "display_name": "mvpdr",
   "language": "python",
   "name": "python3"
  },
  "language_info": {
   "codemirror_mode": {
    "name": "ipython",
    "version": 3
   },
   "file_extension": ".py",
   "mimetype": "text/x-python",
   "name": "python",
   "nbconvert_exporter": "python",
   "pygments_lexer": "ipython3",
   "version": "3.8.20"
  }
 },
 "nbformat": 4,
 "nbformat_minor": 2
}
